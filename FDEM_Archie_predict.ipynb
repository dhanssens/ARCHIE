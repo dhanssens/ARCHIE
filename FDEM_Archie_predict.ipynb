{
  "nbformat": 4,
  "nbformat_minor": 0,
  "metadata": {
    "kernelspec": {
      "display_name": "Python 3",
      "language": "python",
      "name": "python3"
    },
    "language_info": {
      "codemirror_mode": {
        "name": "ipython",
        "version": 3
      },
      "file_extension": ".py",
      "mimetype": "text/x-python",
      "name": "python",
      "nbconvert_exporter": "python",
      "pygments_lexer": "ipython3",
      "version": "3.6.1"
    },
    "widgets": {
      "application/vnd.jupyter.widget-state+json": {
        "state": {},
        "version_major": 1,
        "version_minor": 0
      }
    },
    "colab": {
      "name": "FDEM_Archie_predict.ipynb",
      "version": "0.3.2",
      "provenance": [],
      "toc_visible": true,
      "include_colab_link": true
    }
  },
  "cells": [
    {
      "cell_type": "markdown",
      "metadata": {
        "id": "view-in-github",
        "colab_type": "text"
      },
      "source": [
        "<a href=\"https://colab.research.google.com/github/dhanssens/ARCHIE/blob/master/FDEM_Archie_predict.ipynb\" target=\"_parent\"><img src=\"https://colab.research.google.com/assets/colab-badge.svg\" alt=\"Open In Colab\"/></a>"
      ]
    },
    {
      "cell_type": "markdown",
      "metadata": {
        "id": "uPYbasu6gcHS",
        "colab_type": "text"
      },
      "source": [
        "<h1><center>Predicting the effect of soil and moisture variations on the interpretive potential of frequency domain electromagnetics</center></h1>\n",
        "<h3><center>Daan Hanssens and Philippe De Smedt</center></h3>"
      ]
    },
    {
      "cell_type": "markdown",
      "metadata": {
        "id": "uVOriMiRgcHU",
        "colab_type": "text"
      },
      "source": [
        "## Introduction\n",
        "Due to the diverse nature of different soil parameters and combination of different frequency domain eletromagnetic (FDEM) instrumentation, we present an interactive tool to assess each individual case separately, and allow flexible integration of the suggested methodology. Such a tool can be expanded towards evaluating the influence of moisture variation on different types of geo-electrical instrumentation, simply by integrating the relevant forward modelling algorithms. For FDEM surveys particularly, this will allow clear evaluation of the influence of soil moisture on both the QP and IP signal for investigated terrains."
      ]
    },
    {
      "cell_type": "code",
      "metadata": {
        "id": "McyR53k-gcHV",
        "colab_type": "code",
        "colab": {}
      },
      "source": [
        "# Import\n",
        "import numpy as np\n",
        "import pandas as pd\n",
        "import FDEM1D  # https://github.com/dhanssens/FDEM1D\n",
        "import matplotlib.pyplot as plt\n",
        "%matplotlib inline\n",
        "\n",
        "# Font family and size\n",
        "plt.rcParams['font.family'] = 'sans-serif'\n",
        "plt.rcParams['font.sans-serif'] = 'Arial'\n",
        "plt.rcParams['font.size'] = 20"
      ],
      "execution_count": 0,
      "outputs": []
    },
    {
      "cell_type": "markdown",
      "metadata": {
        "id": "Hy7ahrnygcHX",
        "colab_type": "text"
      },
      "source": [
        "## The Generalized Archie’s Law\n",
        "The Generalized Archie’s Law (Shah and Singh, 2005) was used for evaluating moisture-dependent electrical conductivity in unsaturated porous media and is defined as follows:\n",
        "\n",
        "\\begin{equation*}\n",
        "\\sigma = c \\sigma_w \\theta^m\n",
        "\\end{equation*}\n",
        "\n",
        "where,  \n",
        "$\\qquad$$\\sigma$ is the electrical conductivity of the soil expressed in Siemens per meter (S/m),  \n",
        "$\\qquad$$\\sigma_w$ is the electrical conductivity of the pore solution expressed in Siemens per meter (S/m),  \n",
        "$\\qquad$$\\theta$ is the volumetric moisture content (dimensionless) and,  \n",
        "$\\qquad$$c$ and $m$ are the (dimensionless) fitting parameters which can be estimated based on the clay content ($CL$) expressed in percentage (%).\n",
        "\n",
        "For $CL ≥ 5%$:\n",
        "\n",
        "\\begin{equation*}\n",
        "c=0.6*CL^{0.55} \\\\\n",
        "m=0.92*CL^{0.2}\n",
        "\\end{equation*}\n",
        "\n",
        "For $CL < 5%$:\n",
        "\\begin{equation*}\n",
        "c=1.45\\\\\n",
        "m=1.25\\\\\n",
        "\\end{equation*}"
      ]
    },
    {
      "cell_type": "code",
      "metadata": {
        "id": "cAjnBno2gcHY",
        "colab_type": "code",
        "colab": {}
      },
      "source": [
        "# Generalized Archie's Law\n",
        "def archie(vol_moist_cont, con_pore_sol, clay_cont=0, c=1.45, m=1.25):\n",
        "\n",
        "    # Calculate coefficients defined by clay content\n",
        "    if clay_cont >= 5:\n",
        "        c = .6 * clay_cont ** .55\n",
        "        m = .92 * clay_cont ** .2\n",
        "\n",
        "    # Return electrical conductivity of the soil\n",
        "    return c * con_pore_sol * vol_moist_cont ** m"
      ],
      "execution_count": 0,
      "outputs": []
    },
    {
      "cell_type": "markdown",
      "metadata": {
        "id": "XhzT5of0gcHa",
        "colab_type": "text"
      },
      "source": [
        "## Predicting FDEM contrasts based on profile information\n",
        "Synthetic models, agreeing to the characteristics of the profiles can be build using the Generalized Archie's Law equation and integrated into a 1D forward modelling procedure (Hanssens et al., 2019) to predict QP and IP responses and contrasts. The contrasts are classified as detectable when the absolute difference exceeds the coil configuration its associated noise level."
      ]
    },
    {
      "cell_type": "markdown",
      "metadata": {
        "id": "YAYUduIFgcHb",
        "colab_type": "text"
      },
      "source": [
        "### Instrument characteristics"
      ]
    },
    {
      "cell_type": "code",
      "metadata": {
        "id": "rGuQaWJFgcHb",
        "colab_type": "code",
        "colab": {}
      },
      "source": [
        "# Sensor characteristics\n",
        "x = 1.0                 # x-coordinate receiver (m)\n",
        "height = .165           # Height of transmitter (m)\n",
        "freq = 9e3              # Frequency (Hz)\n",
        "mom = 1                 # Transmitter moment (A m**2)\n",
        "ori = 'YY'              # Coil orientation ('ZZ': HCP, 'ZX': PRP, 'YY': VCP)\n",
        "noise = 50              # Instrument noise (ppm)"
      ],
      "execution_count": 0,
      "outputs": []
    },
    {
      "cell_type": "code",
      "metadata": {
        "id": "j4IbTJDzgcHd",
        "colab_type": "code",
        "colab": {}
      },
      "source": [
        "# Fixed sensor characteristics in 1D for horizontal instrument\n",
        "y = .0                  # y-coordinate receiver (m)\n",
        "z = - height            # z-coordinate receiver (m)"
      ],
      "execution_count": 0,
      "outputs": []
    },
    {
      "cell_type": "markdown",
      "metadata": {
        "id": "w_IuxhR3gcHf",
        "colab_type": "text"
      },
      "source": [
        "### Profile characteristics"
      ]
    },
    {
      "cell_type": "code",
      "metadata": {
        "id": "HB-ONd07gcHf",
        "colab_type": "code",
        "colab": {}
      },
      "source": [
        "# Create DataFrame structures for profiles 1 and 2\n",
        "profile_1 = pd.DataFrame(columns=['thick', 'mag_sus', 'bulk_density', 'grav_moist_cont', 'vol_moist_cont', 'con_pore_sol', 'clay_cont', 'archie_ec'])\n",
        "profile_2 = profile_1.copy()"
      ],
      "execution_count": 0,
      "outputs": []
    },
    {
      "cell_type": "markdown",
      "metadata": {
        "id": "PI_2i_azgcHh",
        "colab_type": "text"
      },
      "source": [
        "#### Profile 1"
      ]
    },
    {
      "cell_type": "code",
      "metadata": {
        "id": "BInnFwMhgcHh",
        "colab_type": "code",
        "colab": {
          "base_uri": "https://localhost:8080/",
          "height": 142
        },
        "outputId": "67a4ce0d-a35d-4cc5-f007-f18e8c7f7b86"
      },
      "source": [
        "# Profile 1 characteristics [layer 0, layer 1, ..., layer N-1, layer N]\n",
        "profile_1.thick = [.2, .5, np.nan]          # Layer(s) thickness (m), last layer is assumed to be endless\n",
        "profile_1.mag_sus = [0, 11e-5, 12e-5]       # Magnetic susceptibility of layer(s) (-)\n",
        "profile_1.grav_moist_cont = [.7, .25, .4]   # Gravimetric moisture content of layer(s) (-)\n",
        "profile_1.bulk_density = [.7, 1.1, 1.4]     # Bulk density of layer(s) (g/cm³)\n",
        "profile_1.con_pore_sol = [.015, .025, .01]  # Electrical conductivity of pore solution of layer(s) (S/m)\n",
        "profile_1.clay_cont = [33, 40, 30]          # Clay content of layer(s) (%)\n",
        "\n",
        "# Calculate volumetric moisture content (-) of Profile 1\n",
        "profile_1.vol_moist_cont = profile_1.grav_moist_cont.values * profile_1.bulk_density.values\n",
        "\n",
        "# Summary of Profile 1\n",
        "profile_1.head()"
      ],
      "execution_count": 12,
      "outputs": [
        {
          "output_type": "execute_result",
          "data": {
            "text/html": [
              "<div>\n",
              "<style scoped>\n",
              "    .dataframe tbody tr th:only-of-type {\n",
              "        vertical-align: middle;\n",
              "    }\n",
              "\n",
              "    .dataframe tbody tr th {\n",
              "        vertical-align: top;\n",
              "    }\n",
              "\n",
              "    .dataframe thead th {\n",
              "        text-align: right;\n",
              "    }\n",
              "</style>\n",
              "<table border=\"1\" class=\"dataframe\">\n",
              "  <thead>\n",
              "    <tr style=\"text-align: right;\">\n",
              "      <th></th>\n",
              "      <th>thick</th>\n",
              "      <th>mag_sus</th>\n",
              "      <th>bulk_density</th>\n",
              "      <th>grav_moist_cont</th>\n",
              "      <th>vol_moist_cont</th>\n",
              "      <th>con_pore_sol</th>\n",
              "      <th>clay_cont</th>\n",
              "      <th>archie_ec</th>\n",
              "    </tr>\n",
              "  </thead>\n",
              "  <tbody>\n",
              "    <tr>\n",
              "      <th>0</th>\n",
              "      <td>0.2</td>\n",
              "      <td>0.00000</td>\n",
              "      <td>0.7</td>\n",
              "      <td>0.70</td>\n",
              "      <td>0.490</td>\n",
              "      <td>0.015</td>\n",
              "      <td>33</td>\n",
              "      <td>NaN</td>\n",
              "    </tr>\n",
              "    <tr>\n",
              "      <th>1</th>\n",
              "      <td>0.5</td>\n",
              "      <td>0.00011</td>\n",
              "      <td>1.1</td>\n",
              "      <td>0.25</td>\n",
              "      <td>0.275</td>\n",
              "      <td>0.025</td>\n",
              "      <td>40</td>\n",
              "      <td>NaN</td>\n",
              "    </tr>\n",
              "    <tr>\n",
              "      <th>2</th>\n",
              "      <td>NaN</td>\n",
              "      <td>0.00012</td>\n",
              "      <td>1.4</td>\n",
              "      <td>0.40</td>\n",
              "      <td>0.560</td>\n",
              "      <td>0.010</td>\n",
              "      <td>30</td>\n",
              "      <td>NaN</td>\n",
              "    </tr>\n",
              "  </tbody>\n",
              "</table>\n",
              "</div>"
            ],
            "text/plain": [
              "   thick  mag_sus  bulk_density  ...  con_pore_sol  clay_cont  archie_ec\n",
              "0    0.2  0.00000           0.7  ...         0.015         33        NaN\n",
              "1    0.5  0.00011           1.1  ...         0.025         40        NaN\n",
              "2    NaN  0.00012           1.4  ...         0.010         30        NaN\n",
              "\n",
              "[3 rows x 8 columns]"
            ]
          },
          "metadata": {
            "tags": []
          },
          "execution_count": 12
        }
      ]
    },
    {
      "cell_type": "markdown",
      "metadata": {
        "id": "XXDTmchmgcHk",
        "colab_type": "text"
      },
      "source": [
        "#### Profile 2"
      ]
    },
    {
      "cell_type": "code",
      "metadata": {
        "id": "n4vXTmbEgcHl",
        "colab_type": "code",
        "colab": {
          "base_uri": "https://localhost:8080/",
          "height": 111
        },
        "outputId": "67159ef7-efbd-4889-9363-93fa86d0aa63"
      },
      "source": [
        "# Profile 2 characteristics [layer 0, layer 1, ..., layer N-1, layer N]\n",
        "profile_2.thick = [.2, np.nan]           # Layer(s) thickness (m), last layer is assumed to be endless\n",
        "profile_2.mag_sus = [0, 9e-5]            # Magnetic susceptibility of layer(s) (-)\n",
        "profile_2.grav_moist_cont = [.3, .15]    # Gravimetric moisture content of layer(s) (-)\n",
        "profile_2.bulk_density = [.7, 1.1]       # Bulk density of layer(s) (g/cm³)\n",
        "profile_2.con_pore_sol = [.015, .025]    # Electrical conductivity of pore solution of layer(s) (S/m)\n",
        "profile_2.clay_cont = [33, 40]           # Clay content of layer(s) (%)\n",
        "\n",
        "# Calculate volumetric moisture content (-) of Profile 2\n",
        "profile_2.vol_moist_cont = profile_2.grav_moist_cont.values * profile_2.bulk_density.values\n",
        "\n",
        "# Summary of Profile 2\n",
        "profile_2.head()"
      ],
      "execution_count": 13,
      "outputs": [
        {
          "output_type": "execute_result",
          "data": {
            "text/html": [
              "<div>\n",
              "<style scoped>\n",
              "    .dataframe tbody tr th:only-of-type {\n",
              "        vertical-align: middle;\n",
              "    }\n",
              "\n",
              "    .dataframe tbody tr th {\n",
              "        vertical-align: top;\n",
              "    }\n",
              "\n",
              "    .dataframe thead th {\n",
              "        text-align: right;\n",
              "    }\n",
              "</style>\n",
              "<table border=\"1\" class=\"dataframe\">\n",
              "  <thead>\n",
              "    <tr style=\"text-align: right;\">\n",
              "      <th></th>\n",
              "      <th>thick</th>\n",
              "      <th>mag_sus</th>\n",
              "      <th>bulk_density</th>\n",
              "      <th>grav_moist_cont</th>\n",
              "      <th>vol_moist_cont</th>\n",
              "      <th>con_pore_sol</th>\n",
              "      <th>clay_cont</th>\n",
              "      <th>archie_ec</th>\n",
              "    </tr>\n",
              "  </thead>\n",
              "  <tbody>\n",
              "    <tr>\n",
              "      <th>0</th>\n",
              "      <td>0.2</td>\n",
              "      <td>0.00000</td>\n",
              "      <td>0.7</td>\n",
              "      <td>0.30</td>\n",
              "      <td>0.210</td>\n",
              "      <td>0.015</td>\n",
              "      <td>33</td>\n",
              "      <td>NaN</td>\n",
              "    </tr>\n",
              "    <tr>\n",
              "      <th>1</th>\n",
              "      <td>NaN</td>\n",
              "      <td>0.00009</td>\n",
              "      <td>1.1</td>\n",
              "      <td>0.15</td>\n",
              "      <td>0.165</td>\n",
              "      <td>0.025</td>\n",
              "      <td>40</td>\n",
              "      <td>NaN</td>\n",
              "    </tr>\n",
              "  </tbody>\n",
              "</table>\n",
              "</div>"
            ],
            "text/plain": [
              "   thick  mag_sus  bulk_density  ...  con_pore_sol  clay_cont  archie_ec\n",
              "0    0.2  0.00000           0.7  ...         0.015         33        NaN\n",
              "1    NaN  0.00009           1.1  ...         0.025         40        NaN\n",
              "\n",
              "[2 rows x 8 columns]"
            ]
          },
          "metadata": {
            "tags": []
          },
          "execution_count": 13
        }
      ]
    },
    {
      "cell_type": "markdown",
      "metadata": {
        "id": "X8GrBG0kgcHn",
        "colab_type": "text"
      },
      "source": [
        "#### Calculating electrical conductivity based on Archie's Law"
      ]
    },
    {
      "cell_type": "code",
      "metadata": {
        "id": "ZqymWJJsgcHo",
        "colab_type": "code",
        "colab": {}
      },
      "source": [
        "# Calculate electrical conductivity (S/m) of each layer for profiles 1 and 2\n",
        "profile_1.archie_ec = [archie(profile_1.vol_moist_cont.values[lay], \n",
        "                              profile_1.con_pore_sol.values[lay], \n",
        "                              profile_1.clay_cont.values[lay]) \n",
        "                       for lay in range(profile_1.shape[0])]\n",
        "profile_2.archie_ec = [archie(profile_2.vol_moist_cont.values[lay], \n",
        "                              profile_2.con_pore_sol.values[lay], \n",
        "                              profile_2.clay_cont.values[lay]) \n",
        "                       for lay in range(profile_2.shape[0])]"
      ],
      "execution_count": 0,
      "outputs": []
    },
    {
      "cell_type": "markdown",
      "metadata": {
        "id": "7Nr942X7gcHq",
        "colab_type": "text"
      },
      "source": [
        "### Forward modelling procedure"
      ]
    },
    {
      "cell_type": "code",
      "metadata": {
        "id": "6huZ_nx5gcHr",
        "colab_type": "code",
        "colab": {}
      },
      "source": [
        "# Create model object for profile 1\n",
        "model_p1 = FDEM1D.Model(profile_1.thick.values, \n",
        "                        profile_1.mag_sus.values, \n",
        "                        profile_1.archie_ec, \n",
        "                        profile_1.mag_sus.values * 0  # Dielectric permittiviy\n",
        "                        )\n",
        "\n",
        "# Create model object for profile 2\n",
        "model_p2 = FDEM1D.Model(profile_2.thick.values, \n",
        "                        profile_2.mag_sus.values, \n",
        "                        profile_2.archie_ec, \n",
        "                        profile_2.mag_sus.values * 0  # Dielectric permittiviy\n",
        "                        )\n",
        "\n",
        "# Create sensor object\n",
        "sensor = FDEM1D.Sensor(x, y, z, height, freq, mom, ori)                 \n",
        "\n",
        "# Calculate forward QP and IP responses of both profiles\n",
        "ip_p1, qp_p1 = FDEM1D.Calculate(sensor, model_p1).forward()\n",
        "ip_p2, qp_p2 = FDEM1D.Calculate(sensor, model_p2).forward()"
      ],
      "execution_count": 0,
      "outputs": []
    },
    {
      "cell_type": "markdown",
      "metadata": {
        "id": "g3glG2dQgcHt",
        "colab_type": "text"
      },
      "source": [
        "### Detectability of contrasts"
      ]
    },
    {
      "cell_type": "code",
      "metadata": {
        "id": "FQrOR7azgcHt",
        "colab_type": "code",
        "colab": {
          "base_uri": "https://localhost:8080/",
          "height": 509
        },
        "outputId": "bf2f7e37-930b-4579-c123-557b087a845d"
      },
      "source": [
        "# Determine detectibility\n",
        "contrast_in_qp = np.abs(qp_p2 - qp_p1)\n",
        "contrast_in_ip = np.abs(ip_p2 - ip_p1)\n",
        "\n",
        "# Visualize contrasts\n",
        "plt.figure(figsize=(15, 7))\n",
        "plt.hlines(noise, .5, 2.5)\n",
        "plt.bar(1, contrast_in_qp, color='tab:blue')\n",
        "plt.bar(2, contrast_in_ip, color='tab:red')\n",
        "plt.xticks([1, 2], ['QP', 'IP'])\n",
        "plt.ylabel('FDEM contrast (ppm)')\n",
        "plt.show()\n",
        "\n",
        "# Print results\n",
        "print('Contrast is detectable in the QP response: ' + str((contrast_in_qp > noise)[0]))\n",
        "print('Contrast is detectable in the IP response: ' + str((contrast_in_ip > noise)[0]))"
      ],
      "execution_count": 18,
      "outputs": [
        {
          "output_type": "stream",
          "text": [
            "/usr/local/lib/python3.6/dist-packages/matplotlib/font_manager.py:1241: UserWarning: findfont: Font family ['sans-serif'] not found. Falling back to DejaVu Sans.\n",
            "  (prop.get_family(), self.defaultFamily[fontext]))\n"
          ],
          "name": "stderr"
        },
        {
          "output_type": "display_data",
          "data": {
            "image/png": "[encoded data removed]",
            "text/plain": [
              "<Figure size 1080x504 with 1 Axes>"
            ]
          },
          "metadata": {
            "tags": []
          }
        },
        {
          "output_type": "stream",
          "text": [
            "Contrast is detectable in the QP response: True\n",
            "Contrast is detectable in the IP response: False\n"
          ],
          "name": "stdout"
        }
      ]
    }
  ]
}